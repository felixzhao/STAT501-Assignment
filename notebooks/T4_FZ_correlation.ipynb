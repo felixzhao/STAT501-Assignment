{
  "nbformat": 4,
  "nbformat_minor": 0,
  "metadata": {
    "colab": {
      "provenance": [],
      "authorship_tag": "ABX9TyPvWqSTvmICVQ0wxgoCruAs",
      "include_colab_link": true
    },
    "kernelspec": {
      "name": "python3",
      "display_name": "Python 3"
    },
    "language_info": {
      "name": "python"
    }
  },
  "cells": [
    {
      "cell_type": "markdown",
      "metadata": {
        "id": "view-in-github",
        "colab_type": "text"
      },
      "source": [
        "<a href=\"https://colab.research.google.com/github/felixzhao/STAT501-Assignment/blob/main/notebooks/T4_FZ_correlation.ipynb\" target=\"_parent\"><img src=\"https://colab.research.google.com/assets/colab-badge.svg\" alt=\"Open In Colab\"/></a>"
      ]
    },
    {
      "cell_type": "code",
      "execution_count": 1,
      "metadata": {
        "id": "URuEBVPTUzsj"
      },
      "outputs": [],
      "source": [
        "import os\n",
        "import pandas as pd\n",
        "import matplotlib.pyplot as plt\n",
        "import seaborn as sns\n",
        "import numpy as np"
      ]
    },
    {
      "cell_type": "code",
      "source": [
        "from google.colab import drive\n",
        "drive.mount('/content/drive')"
      ],
      "metadata": {
        "colab": {
          "base_uri": "https://localhost:8080/"
        },
        "id": "g-VOOFw5dQnV",
        "outputId": "6e07cf9f-477b-4a6d-9d10-f91ca8275c14"
      },
      "execution_count": 2,
      "outputs": [
        {
          "output_type": "stream",
          "name": "stdout",
          "text": [
            "Mounted at /content/drive\n"
          ]
        }
      ]
    },
    {
      "cell_type": "code",
      "source": [
        "q2_data_path = \"/content/drive/My Drive/Study@NZ/VUW@NZ/STATS 501/assignment/data/q2.csv\"\n",
        "q3_data_path = \"/content/drive/My Drive/Study@NZ/VUW@NZ/STATS 501/assignment/data/q3.csv\"\n",
        "q4_data_path = \"/content/drive/My Drive/Study@NZ/VUW@NZ/STATS 501/assignment/data/q4.csv\""
      ],
      "metadata": {
        "id": "Iw3cFeV2dTZE"
      },
      "execution_count": 3,
      "outputs": []
    },
    {
      "cell_type": "code",
      "source": [
        "q2_cols = [\"Income\", \"Support\"]\n",
        "q3_cols = [\"HDI\", \"Interest\"]\n",
        "q4_cols = [\"Support\", \"Interest\", \"Overall\"]"
      ],
      "metadata": {
        "id": "hKfoOEeap2Pa"
      },
      "execution_count": 4,
      "outputs": []
    },
    {
      "cell_type": "code",
      "source": [
        "q2_df = pd.read_csv(q2_data_path)[q2_cols]\n",
        "q3_df = pd.read_csv(q3_data_path)[q3_cols]\n",
        "q4_df = pd.read_csv(q4_data_path)[q4_cols]"
      ],
      "metadata": {
        "id": "4qMGqSNSmnRh"
      },
      "execution_count": 5,
      "outputs": []
    },
    {
      "cell_type": "markdown",
      "source": [
        "# Question 2"
      ],
      "metadata": {
        "id": "6dC_wCmNmkr5"
      }
    },
    {
      "cell_type": "code",
      "source": [
        "# Calculate Pearson's Correlation\n",
        "correlation_matrix = q2_df.corr()\n",
        "print(\"Pearson's Correlation between income and support: \", correlation_matrix.loc['Income', 'Support'])\n"
      ],
      "metadata": {
        "colab": {
          "base_uri": "https://localhost:8080/"
        },
        "id": "osE3ux71yLGU",
        "outputId": "a843c979-51b2-4bf9-854c-09f62f702b85"
      },
      "execution_count": 7,
      "outputs": [
        {
          "output_type": "stream",
          "name": "stdout",
          "text": [
            "Pearson's Correlation between income and support:  -0.4772964481261777\n"
          ]
        }
      ]
    },
    {
      "cell_type": "markdown",
      "source": [
        "# Question 3"
      ],
      "metadata": {
        "id": "BBwpwP2uqV0K"
      }
    },
    {
      "cell_type": "code",
      "source": [
        "# Calculate Pearson's Correlation\n",
        "correlation_matrix = q3_df.corr()\n",
        "print(\"Pearson's Correlation between HDI and Interest: \", correlation_matrix.loc['HDI', 'Interest'])"
      ],
      "metadata": {
        "colab": {
          "base_uri": "https://localhost:8080/"
        },
        "id": "dpUwnxSoqXTG",
        "outputId": "b37e99c7-393d-43e6-a6d9-f23f6228c0dc"
      },
      "execution_count": 9,
      "outputs": [
        {
          "output_type": "stream",
          "name": "stdout",
          "text": [
            "Pearson's Correlation between HDI and Interest:  -0.8196259950347936\n"
          ]
        }
      ]
    },
    {
      "cell_type": "markdown",
      "source": [
        "# Question 4"
      ],
      "metadata": {
        "id": "mxgaNuoEqX87"
      }
    },
    {
      "cell_type": "code",
      "source": [
        "# Generate a correlation matrix\n",
        "correlation_matrix = q4_df[['Support', 'Interest', 'Overall']].corr()\n",
        "\n",
        "# Display the correlation matrix\n",
        "print(correlation_matrix)"
      ],
      "metadata": {
        "colab": {
          "base_uri": "https://localhost:8080/"
        },
        "id": "jHSTFqcJqY-d",
        "outputId": "2a69601a-7023-4c69-b08f-5486f508292f"
      },
      "execution_count": 10,
      "outputs": [
        {
          "output_type": "stream",
          "name": "stdout",
          "text": [
            "           Support  Interest   Overall\n",
            "Support   1.000000  0.795298 -0.509036\n",
            "Interest  0.795298  1.000000 -0.784566\n",
            "Overall  -0.509036 -0.784566  1.000000\n"
          ]
        }
      ]
    },
    {
      "cell_type": "markdown",
      "source": [
        "## Interpretation of Individual Correlation Coefficients\n",
        "\n",
        "1. Support and Interest (0.795298): This positive correlation suggests that as support levels increase, interest levels also tend to increase, and vice versa. The value of approximately 0.80 is fairly strong, suggesting a substantial positive linear relationship between the two.\n",
        "\n",
        "2. Support and Overall (-0.509036): The negative correlation suggests that as support levels increase, the \"Overall\" value tends to decrease, and vice versa. The value of approximately -0.51 suggests a moderate negative linear relationship.\n",
        "\n",
        "3. Interest and Overall (-0.784566): This negative correlation suggests that as interest levels increase, the \"Overall\" value tends to decrease, and vice versa. The value of approximately -0.78 indicates a strong negative linear relationship."
      ],
      "metadata": {
        "id": "e00Eg5gC1EVl"
      }
    },
    {
      "cell_type": "code",
      "source": [],
      "metadata": {
        "id": "sgt_fFqs1Kf7"
      },
      "execution_count": null,
      "outputs": []
    }
  ]
}