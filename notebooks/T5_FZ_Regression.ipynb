{
  "nbformat": 4,
  "nbformat_minor": 0,
  "metadata": {
    "colab": {
      "provenance": [],
      "authorship_tag": "ABX9TyNwH5akxG0aRa1a68F31dQw",
      "include_colab_link": true
    },
    "kernelspec": {
      "name": "python3",
      "display_name": "Python 3"
    },
    "language_info": {
      "name": "python"
    }
  },
  "cells": [
    {
      "cell_type": "markdown",
      "metadata": {
        "id": "view-in-github",
        "colab_type": "text"
      },
      "source": [
        "<a href=\"https://colab.research.google.com/github/felixzhao/STAT501-Assignment/blob/main/notebooks/T5_FZ_Regression.ipynb\" target=\"_parent\"><img src=\"https://colab.research.google.com/assets/colab-badge.svg\" alt=\"Open In Colab\"/></a>"
      ]
    },
    {
      "cell_type": "code",
      "execution_count": 6,
      "metadata": {
        "id": "URuEBVPTUzsj"
      },
      "outputs": [],
      "source": [
        "import os\n",
        "import pandas as pd\n",
        "import matplotlib.pyplot as plt\n",
        "import seaborn as sns\n",
        "import numpy as np\n",
        "import statsmodels.api as sm"
      ]
    },
    {
      "cell_type": "code",
      "source": [
        "from google.colab import drive\n",
        "drive.mount('/content/drive')"
      ],
      "metadata": {
        "colab": {
          "base_uri": "https://localhost:8080/"
        },
        "id": "g-VOOFw5dQnV",
        "outputId": "be5867f3-8552-416e-c33b-b088a415af5f"
      },
      "execution_count": 2,
      "outputs": [
        {
          "output_type": "stream",
          "name": "stdout",
          "text": [
            "Mounted at /content/drive\n"
          ]
        }
      ]
    },
    {
      "cell_type": "code",
      "source": [
        "q2_data_path = \"/content/drive/My Drive/Study@NZ/VUW@NZ/STATS 501/assignment/data/q2.csv\"\n",
        "q3_data_path = \"/content/drive/My Drive/Study@NZ/VUW@NZ/STATS 501/assignment/data/q3.csv\"\n",
        "q4_data_path = \"/content/drive/My Drive/Study@NZ/VUW@NZ/STATS 501/assignment/data/q4.csv\""
      ],
      "metadata": {
        "id": "Iw3cFeV2dTZE"
      },
      "execution_count": 3,
      "outputs": []
    },
    {
      "cell_type": "code",
      "source": [
        "q2_cols = [\"Income\", \"Support\"]\n",
        "q3_cols = [\"HDI\", \"Interest\"]\n",
        "q4_cols = [\"Support\", \"Interest\", \"Overall\"]"
      ],
      "metadata": {
        "id": "hKfoOEeap2Pa"
      },
      "execution_count": 4,
      "outputs": []
    },
    {
      "cell_type": "code",
      "source": [
        "\n",
        "q2_df = pd.read_csv(q2_data_path)[q2_cols]\n",
        "q3_df = pd.read_csv(q3_data_path)[q3_cols]\n",
        "q4_df = pd.read_csv(q4_data_path)[q4_cols]"
      ],
      "metadata": {
        "id": "4qMGqSNSmnRh"
      },
      "execution_count": 8,
      "outputs": []
    },
    {
      "cell_type": "markdown",
      "source": [
        "# Question 2"
      ],
      "metadata": {
        "id": "6dC_wCmNmkr5"
      }
    },
    {
      "cell_type": "code",
      "source": [
        "q2_x_col = q2_cols[0]\n",
        "q2_y_col = q2_cols[1]\n",
        "print(q2_x_col, q2_y_col)"
      ],
      "metadata": {
        "colab": {
          "base_uri": "https://localhost:8080/"
        },
        "outputId": "08ec8479-eb76-4a7f-8b0e-26b213b52fc4",
        "id": "NEezFn-53hCO"
      },
      "execution_count": 14,
      "outputs": [
        {
          "output_type": "stream",
          "name": "stdout",
          "text": [
            "Income Support\n"
          ]
        }
      ]
    },
    {
      "cell_type": "code",
      "source": [
        "X = q2_df[q2_x_col]\n",
        "y = q2_df[q2_y_col]\n",
        "\n",
        "# Add a constant to the independent variable set to represent the Bo (intercept)\n",
        "X = sm.add_constant(X)\n",
        "\n",
        "# Fit the model\n",
        "model = sm.OLS(y, X).fit()\n",
        "\n",
        "# Print the summary statistics of the regression model\n",
        "print(model.summary())"
      ],
      "metadata": {
        "colab": {
          "base_uri": "https://localhost:8080/"
        },
        "outputId": "48dd6a32-8537-43e9-ed07-4453ce85c118",
        "id": "vA11qc0v3hCP"
      },
      "execution_count": 15,
      "outputs": [
        {
          "output_type": "stream",
          "name": "stdout",
          "text": [
            "                            OLS Regression Results                            \n",
            "==============================================================================\n",
            "Dep. Variable:                Support   R-squared:                       0.228\n",
            "Model:                            OLS   Adj. R-squared:                  0.213\n",
            "Method:                 Least Squares   F-statistic:                     15.34\n",
            "Date:                Thu, 31 Aug 2023   Prob (F-statistic):           0.000263\n",
            "Time:                        09:13:31   Log-Likelihood:                -245.63\n",
            "No. Observations:                  54   AIC:                             495.3\n",
            "Df Residuals:                      52   BIC:                             499.2\n",
            "Df Model:                           1                                         \n",
            "Covariance Type:            nonrobust                                         \n",
            "==============================================================================\n",
            "                 coef    std err          t      P>|t|      [0.025      0.975]\n",
            "------------------------------------------------------------------------------\n",
            "const        595.6084     21.655     27.504      0.000     552.154     639.063\n",
            "Income      -112.1970     28.645     -3.917      0.000    -169.678     -54.716\n",
            "==============================================================================\n",
            "Omnibus:                        0.596   Durbin-Watson:                   1.534\n",
            "Prob(Omnibus):                  0.742   Jarque-Bera (JB):                0.694\n",
            "Skew:                          -0.086   Prob(JB):                        0.707\n",
            "Kurtosis:                       2.472   Cond. No.                         14.1\n",
            "==============================================================================\n",
            "\n",
            "Notes:\n",
            "[1] Standard Errors assume that the covariance matrix of the errors is correctly specified.\n"
          ]
        }
      ]
    },
    {
      "cell_type": "markdown",
      "source": [
        "# Question 3"
      ],
      "metadata": {
        "id": "BBwpwP2uqV0K"
      }
    },
    {
      "cell_type": "code",
      "source": [
        "q3_x_col = q3_cols[0]\n",
        "q3_y_col = q3_cols[1]\n",
        "print(q3_x_col, q3_y_col)"
      ],
      "metadata": {
        "colab": {
          "base_uri": "https://localhost:8080/"
        },
        "id": "dwc45kcS3IeU",
        "outputId": "79939183-4d9c-4bb0-8abd-dff3732b0346"
      },
      "execution_count": 12,
      "outputs": [
        {
          "output_type": "stream",
          "name": "stdout",
          "text": [
            "HDI Interest\n"
          ]
        }
      ]
    },
    {
      "cell_type": "code",
      "source": [
        "X = q3_df[q3_x_col]\n",
        "y = q3_df[q3_y_col]\n",
        "\n",
        "# Add a constant to the independent variable set to represent the Bo (intercept)\n",
        "X = sm.add_constant(X)\n",
        "\n",
        "# Fit the model\n",
        "model = sm.OLS(y, X).fit()\n",
        "\n",
        "# Print the summary statistics of the regression model\n",
        "print(model.summary())"
      ],
      "metadata": {
        "colab": {
          "base_uri": "https://localhost:8080/"
        },
        "id": "dpUwnxSoqXTG",
        "outputId": "c5cc2f67-22af-4bb8-e7c0-c54b2bc3b7d1"
      },
      "execution_count": 13,
      "outputs": [
        {
          "output_type": "stream",
          "name": "stdout",
          "text": [
            "                            OLS Regression Results                            \n",
            "==============================================================================\n",
            "Dep. Variable:               Interest   R-squared:                       0.672\n",
            "Model:                            OLS   Adj. R-squared:                  0.665\n",
            "Method:                 Least Squares   F-statistic:                     102.3\n",
            "Date:                Thu, 31 Aug 2023   Prob (F-statistic):           1.09e-13\n",
            "Time:                        09:12:31   Log-Likelihood:                -248.18\n",
            "No. Observations:                  52   AIC:                             500.4\n",
            "Df Residuals:                      50   BIC:                             504.3\n",
            "Df Model:                           1                                         \n",
            "Covariance Type:            nonrobust                                         \n",
            "==============================================================================\n",
            "                 coef    std err          t      P>|t|      [0.025      0.975]\n",
            "------------------------------------------------------------------------------\n",
            "const        915.0384     38.491     23.773      0.000     837.727     992.350\n",
            "HDI         -476.4113     47.093    -10.116      0.000    -571.001    -381.822\n",
            "==============================================================================\n",
            "Omnibus:                        5.049   Durbin-Watson:                   1.445\n",
            "Prob(Omnibus):                  0.080   Jarque-Bera (JB):                2.058\n",
            "Skew:                           0.016   Prob(JB):                        0.357\n",
            "Kurtosis:                       2.026   Cond. No.                         19.4\n",
            "==============================================================================\n",
            "\n",
            "Notes:\n",
            "[1] Standard Errors assume that the covariance matrix of the errors is correctly specified.\n"
          ]
        }
      ]
    },
    {
      "cell_type": "markdown",
      "source": [
        "## Quesiton 4, multiple regression"
      ],
      "metadata": {
        "id": "4Wg97ZBt0QFP"
      }
    },
    {
      "cell_type": "code",
      "source": [
        "q4_x_1_col = q4_cols[0]\n",
        "q4_x_2_col = q4_cols[1]\n",
        "q4_y_col = q4_cols[2]\n",
        "print(q4_x_1_col, q4_x_2_col, q4_y_col)"
      ],
      "metadata": {
        "colab": {
          "base_uri": "https://localhost:8080/"
        },
        "id": "U2ZIB7s-13Ms",
        "outputId": "2803103d-87df-48c1-a84f-e10108a7be52"
      },
      "execution_count": 5,
      "outputs": [
        {
          "output_type": "stream",
          "name": "stdout",
          "text": [
            "Support Interest Overall\n"
          ]
        }
      ]
    },
    {
      "cell_type": "code",
      "source": [
        "X = q4_df[[q4_x_1_col, q4_x_2_col]]\n",
        "y = q4_df[q4_y_col]\n",
        "\n",
        "# Add a constant to the independent variable set to represent the Bo (intercept)\n",
        "X = sm.add_constant(X)\n",
        "\n",
        "# Fit the model\n",
        "model = sm.OLS(y, X).fit()\n",
        "\n",
        "# Print the summary statistics of the regression model\n",
        "print(model.summary())\n"
      ],
      "metadata": {
        "id": "tWuez70j0TYW",
        "colab": {
          "base_uri": "https://localhost:8080/"
        },
        "outputId": "ca49ac8c-6d0f-4642-cec0-7ad3c8063ba2"
      },
      "execution_count": 9,
      "outputs": [
        {
          "output_type": "stream",
          "name": "stdout",
          "text": [
            "                            OLS Regression Results                            \n",
            "==============================================================================\n",
            "Dep. Variable:                Overall   R-squared:                       0.651\n",
            "Model:                            OLS   Adj. R-squared:                  0.639\n",
            "Method:                 Least Squares   F-statistic:                     50.47\n",
            "Date:                Thu, 31 Aug 2023   Prob (F-statistic):           4.36e-13\n",
            "Time:                        09:06:36   Log-Likelihood:                -278.32\n",
            "No. Observations:                  57   AIC:                             562.6\n",
            "Df Residuals:                      54   BIC:                             568.8\n",
            "Df Model:                           2                                         \n",
            "Covariance Type:            nonrobust                                         \n",
            "==============================================================================\n",
            "                 coef    std err          t      P>|t|      [0.025      0.975]\n",
            "------------------------------------------------------------------------------\n",
            "const        735.6360     93.539      7.864      0.000     548.102     923.170\n",
            "Support        0.6544      0.277      2.360      0.022       0.098       1.210\n",
            "Interest      -1.1316      0.145     -7.797      0.000      -1.423      -0.841\n",
            "==============================================================================\n",
            "Omnibus:                        6.280   Durbin-Watson:                   1.984\n",
            "Prob(Omnibus):                  0.043   Jarque-Bera (JB):                5.283\n",
            "Skew:                          -0.673   Prob(JB):                       0.0713\n",
            "Kurtosis:                       3.643   Cond. No.                     1.59e+04\n",
            "==============================================================================\n",
            "\n",
            "Notes:\n",
            "[1] Standard Errors assume that the covariance matrix of the errors is correctly specified.\n",
            "[2] The condition number is large, 1.59e+04. This might indicate that there are\n",
            "strong multicollinearity or other numerical problems.\n"
          ]
        }
      ]
    },
    {
      "cell_type": "markdown",
      "source": [
        "## Interpretation\n",
        "\n",
        "The output is a summary of the Ordinary Least Squares (OLS) regression model. Below is an interpretation of some of the key statistics:\n",
        "\n",
        "### Model Fit:\n",
        "1. R-squared (0.651): This value suggests that approximately 65.1% of the variation in the dependent variable \"Overall\" can be explained by the independent variables \"Support\" and \"Interest.\" This is a relatively good fit, although it means that 34.9% of the variability is not captured by the model.\n",
        "\n",
        "2. Adj. R-squared (0.639): The adjusted R-squared considers the number of predictors in the model, making it a better measure when comparing models with different numbers of predictors. In this case, it's still fairly close to the R-squared, suggesting the model is relatively robust.\n",
        "\n",
        "3. Prob (F-statistic) (4.36e-13): The F-statistic tests the null hypothesis that all of the regression coefficients are equal to zero, meaning that the model has no explanatory power. A very low p-value (in this case close to zero) rejects the null hypothesis, implying that the model is useful.\n",
        "\n",
        "### Coefficients:\n",
        "1. const (735.6360): This is the intercept term, representing the expected value of \"Overall\" when both \"Support\" and \"Interest\" are zero.\n",
        "\n",
        "2. Support (0.6544): For every one-unit increase in \"Support,\" \"Overall\" is expected to increase by 0.6544 units, holding all else constant. The p-value for this variable is 0.022, which is below the common alpha level of 0.05, suggesting that \"Support\" is statistically significant in predicting \"Overall.\"\n",
        "\n",
        "3. Interest (-1.1316): For every one-unit increase in \"Interest,\" \"Overall\" is expected to decrease by 1.1316 units, holding all else constant. The p-value for this variable is very close to zero, which means it is statistically significant.\n",
        "\n",
        "### Additional Observations:\n",
        "1. Durbin-Watson (1.984): This test is used to detect the presence of autocorrelation (a relationship between values separated from each other by a given time lag) in the residuals. A value of around 2.0 suggests that there is no autocorrelation.\n",
        "\n",
        "2. Omnibus and Jarque-Bera (JB): These are tests for the normality of the residuals. The p-values (0.043 and 0.0713) are close to the 0.05 threshold, indicating that the assumption of normally-distributed errors might be slightly violated.\n",
        "\n",
        "3. Condition Number (1.59e+04): A large condition number may indicate multicollinearity among the predictors. It is advisable to look for ways to address this, perhaps by removing variables or using techniques like ridge regression.\n",
        "\n",
        "4. Standard Errors and t-values: These are used in constructing the confidence intervals for the coefficients. Higher t-values and lower standard errors suggest greater confidence that the parameter is different from zero."
      ],
      "metadata": {
        "id": "vTQ8Irbo2pBD"
      }
    },
    {
      "cell_type": "code",
      "source": [],
      "metadata": {
        "id": "q4ERQL1T2OFV"
      },
      "execution_count": null,
      "outputs": []
    }
  ]
}